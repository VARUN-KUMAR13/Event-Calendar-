{
  "cells": [
    {
      "cell_type": "markdown",
      "metadata": {
        "id": "view-in-github",
        "colab_type": "text"
      },
      "source": [
        "<a href=\"https://colab.research.google.com/github/VARUN-KUMAR13/Event-Calendar-/blob/main/Python_Chatbot_Logic_for_Google_Colab_(Formatted_Output).ipynb\" target=\"_parent\"><img src=\"https://colab.research.google.com/assets/colab-badge.svg\" alt=\"Open In Colab\"/></a>"
      ]
    },
    {
      "cell_type": "code",
      "source": [
        "import requests\n",
        "import json\n",
        "import os\n",
        "\n",
        "# --- IMPORTANT: Replace with your actual Gemini API Key ---\n",
        "# You can get an API key from Google AI Studio: https://aistudio.google.com/app/apikey\n",
        "# It's recommended to store your API key securely, e.g., in Colab Secrets or as an environment variable.\n",
        "# For this demo, you can paste it directly, but be cautious in production.\n",
        "API_KEY = \"YOUR_GEMINI_API_KEY\" # <--- REPLACE THIS WITH YOUR ACTUAL API KEY\n",
        "\n",
        "if not API_KEY or API_KEY == \"YOUR_GEMINI_API_KEY\":\n",
        "    print(\"WARNING: Please replace 'YOUR_GEMINI_API_KEY' with your actual Gemini API key.\")\n",
        "    print(\"You can get one from Google AI Studio: https://aistudio.google.com/app/apikey\")\n",
        "    # As a fallback for Colab, you might try to get it from environment variables if set up\n",
        "    # API_KEY = os.getenv(\"GEMINI_API_KEY\", API_KEY)\n",
        "\n",
        "\n",
        "API_URL = f\"https://generativelanguage.googleapis.com/v1beta/models/gemini-2.0-flash:generateContent?key={API_KEY}\"\n",
        "\n",
        "def get_chatbot_response(user_prompt):\n",
        "    \"\"\"\n",
        "    Sends a user prompt to the Gemini API and returns the chatbot's response.\n",
        "    \"\"\"\n",
        "    # System instruction to guide the LLM's behavior for CVR College\n",
        "    system_instruction = \"\"\"\n",
        "    You are a helpful and informative chatbot for CVR College of Engineering, Hyderabad. Your purpose is to assist students and faculty by providing accurate information about the college website, its history, academic programs, campus facilities, placement records, and general guidance. Be friendly, professional, and concise. If you don't know the answer, politely state that you cannot provide that information.\n",
        "\n",
        "    Here are some examples of the kind of information you should be able to provide (even if hypothetical for this demo, as I don't have real-time data for CVR):\n",
        "    - College History: \"CVR College of Engineering was established in 2001 and is affiliated with JNTUH. It is known for its strong academic foundation and commitment to excellence.\"\n",
        "    - Placements: \"CVR College of Engineering has a commendable placement record, with many students securing positions in leading IT and core companies. The average placement rate is typically high, and companies like TCS, Infosys, Wipro, Capgemini, and Cognizant are regular recruiters.\"\n",
        "    - Website Information: \"You can find all official information, including admissions, academic calendars, and departmental details, on the official CVR College of Engineering website at cvr.ac.in.\"\n",
        "    - Campus Facilities: \"CVR College offers excellent facilities including a well-stocked library, advanced laboratories, a spacious auditorium, sports grounds, and separate hostels for boys and girls.\"\n",
        "    - Guidance: \"For academic queries, students can approach their respective department heads. For career guidance and placement assistance, the Training & Placement cell is available.\"\n",
        "    \"\"\"\n",
        "\n",
        "    chat_history = [\n",
        "        {\n",
        "            \"role\": \"user\",\n",
        "            \"parts\": [{\"text\": f\"{system_instruction}\\n\\nNow, please respond to the following query from a user: {user_prompt}\"}]\n",
        "        }\n",
        "    ]\n",
        "\n",
        "    payload = {\n",
        "        \"contents\": chat_history,\n",
        "    }\n",
        "\n",
        "    headers = {\n",
        "        \"Content-Type\": \"application/json\"\n",
        "    }\n",
        "\n",
        "    try:\n",
        "        response = requests.post(API_URL, headers=headers, data=json.dumps(payload))\n",
        "        response.raise_for_status() # Raise an exception for HTTP errors (4xx or 5xx)\n",
        "        result = response.json()\n",
        "\n",
        "        if result.get(\"candidates\") and len(result[\"candidates\"]) > 0 and \\\n",
        "           result[\"candidates\"][0].get(\"content\") and result[\"candidates\"][0][\"content\"].get(\"parts\") and \\\n",
        "           len(result[\"candidates\"][0][\"content\"][\"parts\"]) > 0:\n",
        "            return result[\"candidates\"][0][\"content\"][\"parts\"][0][\"text\"]\n",
        "        else:\n",
        "            print(\"Unexpected API response structure:\", result)\n",
        "            return \"Sorry, I couldn't get a response from the AI. Please try again.\"\n",
        "    except requests.exceptions.RequestException as e:\n",
        "        print(f\"Error calling Gemini API: {e}\")\n",
        "        return \"Oops! Something went wrong. Please try again later.\"\n",
        "    except json.JSONDecodeError:\n",
        "        print(f\"Error decoding JSON response: {response.text}\")\n",
        "        return \"Oops! Something went wrong with the response format.\"\n",
        "\n",
        "# --- Demo usage in Google Colab ---\n",
        "if __name__ == \"__main__\":\n",
        "    print(\"=\"*60)\n",
        "    print(\"  Welcome to the CVR College Chatbot (Python Demo)!\")\n",
        "    print(\"  Type 'exit' to quit the conversation.\")\n",
        "    print(\"=\"*60)\n",
        "\n",
        ""
      ],
      "outputs": [],
      "execution_count": null,
      "metadata": {
        "id": "rQt7LidY4eyj"
      }
    },
    {
      "cell_type": "code",
      "source": [
        "while True:\n",
        "        print(\"\\n\" + \"-\"*25 + \" YOUR INPUT \" + \"-\"*25)\n",
        "        user_input = input(\"You: \")\n",
        "        print(\"-\"*(25 + len(\" YOUR INPUT \") + 25))\n",
        "\n",
        "        if user_input.lower() == 'exit':\n",
        "            print(\"\\n\" + \"=\"*60)\n",
        "            print(\"  Chatbot: Goodbye! Feel free to return anytime.\")\n",
        "            print(\"=\"*60)\n",
        "            break\n",
        "\n",
        "        print(\"\\n\" + \"-\"*25 + \" CHATBOT RESPONSE \" + \"-\"*20)\n",
        "        print(\"Chatbot: Thinking...\")\n",
        "        bot_response = get_chatbot_response(user_input)\n",
        "        print(f\"Chatbot: {bot_response}\")\n",
        "        print(\"-\"*(25 + len(\" CHATBOT RESPONSE \") + 20))"
      ],
      "metadata": {
        "id": "V8A5czjL4mC4"
      },
      "execution_count": null,
      "outputs": []
    }
  ],
  "metadata": {
    "colab": {
      "provenance": [],
      "include_colab_link": true
    },
    "kernelspec": {
      "display_name": "Python 3",
      "name": "python3"
    }
  },
  "nbformat": 4,
  "nbformat_minor": 0
}